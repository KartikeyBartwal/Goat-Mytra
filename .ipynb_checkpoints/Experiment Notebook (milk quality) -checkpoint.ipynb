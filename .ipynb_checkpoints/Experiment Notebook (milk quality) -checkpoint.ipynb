{
 "cells": [
  {
   "cell_type": "code",
   "execution_count": 30,
   "id": "a6a258a2-7d4d-4f90-b216-11adf4606e92",
   "metadata": {},
   "outputs": [],
   "source": [
    "import numpy as np\n",
    "import pandas as pd"
   ]
  },
  {
   "cell_type": "code",
   "execution_count": 31,
   "id": "4d97be77-ceda-4949-a614-dc942626acfe",
   "metadata": {},
   "outputs": [
    {
     "name": "stdout",
     "output_type": "stream",
     "text": [
      " Volume in drive D is New Volume\n",
      " Volume Serial Number is 6220-5780\n",
      "\n",
      " Directory of D:\\goat mytra\n",
      "\n",
      "15-06-2024  20:00    <DIR>          .\n",
      "15-06-2024  20:00    <DIR>          ..\n",
      "15-06-2024  19:11    <DIR>          .ipynb_checkpoints\n",
      "15-06-2024  17:04                 0 data_ingestion.py\n",
      "15-06-2024  19:09                 0 Dockerfile\n",
      "15-06-2024  19:05               638 exceptions.py\n",
      "15-06-2024  20:00            30,654 Experiment Notebook.ipynb\n",
      "15-06-2024  19:09                 0 fast_api.py\n",
      "15-06-2024  17:04                 0 feature_engineering.py\n",
      "15-06-2024  19:21               728 goat_dataset.csv\n",
      "15-06-2024  19:05               422 logger.py\n",
      "15-06-2024  19:25    <DIR>          logs\n",
      "15-06-2024  19:11                 0 main_pipeline.py\n",
      "15-06-2024  19:06                 0 MLflow.py\n",
      "15-06-2024  17:05                 0 model_trainer.py\n",
      "15-06-2024  19:13    <DIR>          myvenv\n",
      "15-06-2024  17:06               182 requirements.txt\n",
      "15-06-2024  19:08    <DIR>          rust_functions\n",
      "              12 File(s)         32,624 bytes\n",
      "               6 Dir(s)  972,527,476,736 bytes free\n"
     ]
    }
   ],
   "source": [
    "ls"
   ]
  },
  {
   "cell_type": "code",
   "execution_count": 32,
   "id": "828ee8be-241f-4df7-ba0b-a25cd7ab612a",
   "metadata": {
    "scrolled": true
   },
   "outputs": [],
   "source": [
    "df = pd.read_csv(\"goat_dataset.csv\")"
   ]
  },
  {
   "cell_type": "markdown",
   "id": "4db11b6f-4e73-4242-9342-844d7df1224c",
   "metadata": {},
   "source": [
    "## Exploratory Data Analysis"
   ]
  },
  {
   "cell_type": "code",
   "execution_count": 33,
   "id": "bd91e588-abdd-4227-b8c8-f6b294d3e2d5",
   "metadata": {},
   "outputs": [
    {
     "data": {
      "text/html": [
       "<div>\n",
       "<style scoped>\n",
       "    .dataframe tbody tr th:only-of-type {\n",
       "        vertical-align: middle;\n",
       "    }\n",
       "\n",
       "    .dataframe tbody tr th {\n",
       "        vertical-align: top;\n",
       "    }\n",
       "\n",
       "    .dataframe thead th {\n",
       "        text-align: right;\n",
       "    }\n",
       "</style>\n",
       "<table border=\"1\" class=\"dataframe\">\n",
       "  <thead>\n",
       "    <tr style=\"text-align: right;\">\n",
       "      <th></th>\n",
       "      <th>owner_name</th>\n",
       "      <th>adhaar_number</th>\n",
       "      <th>goat_id</th>\n",
       "      <th>milk_in_litres</th>\n",
       "      <th>age</th>\n",
       "      <th>height</th>\n",
       "      <th>weight</th>\n",
       "      <th>pregnancy</th>\n",
       "      <th>behavior</th>\n",
       "      <th>gender</th>\n",
       "      <th>hay_grass_intake</th>\n",
       "      <th>meat_quality_of_the_goat</th>\n",
       "      <th>milk_quality_of_the_goat</th>\n",
       "    </tr>\n",
       "  </thead>\n",
       "  <tbody>\n",
       "    <tr>\n",
       "      <th>0</th>\n",
       "      <td>Aarav</td>\n",
       "      <td>123456789012</td>\n",
       "      <td>1</td>\n",
       "      <td>10</td>\n",
       "      <td>2</td>\n",
       "      <td>70</td>\n",
       "      <td>35</td>\n",
       "      <td>no</td>\n",
       "      <td>docile</td>\n",
       "      <td>female</td>\n",
       "      <td>5</td>\n",
       "      <td>4</td>\n",
       "      <td>5</td>\n",
       "    </tr>\n",
       "    <tr>\n",
       "      <th>1</th>\n",
       "      <td>Vihaan</td>\n",
       "      <td>987654321098</td>\n",
       "      <td>2</td>\n",
       "      <td>15</td>\n",
       "      <td>3</td>\n",
       "      <td>75</td>\n",
       "      <td>40</td>\n",
       "      <td>yes</td>\n",
       "      <td>normal</td>\n",
       "      <td>female</td>\n",
       "      <td>6</td>\n",
       "      <td>3</td>\n",
       "      <td>4</td>\n",
       "    </tr>\n",
       "    <tr>\n",
       "      <th>2</th>\n",
       "      <td>Vivaan</td>\n",
       "      <td>456123789012</td>\n",
       "      <td>3</td>\n",
       "      <td>20</td>\n",
       "      <td>4</td>\n",
       "      <td>80</td>\n",
       "      <td>45</td>\n",
       "      <td>no</td>\n",
       "      <td>aggressive</td>\n",
       "      <td>male</td>\n",
       "      <td>7</td>\n",
       "      <td>5</td>\n",
       "      <td>3</td>\n",
       "    </tr>\n",
       "    <tr>\n",
       "      <th>3</th>\n",
       "      <td>Aadhya</td>\n",
       "      <td>321654987012</td>\n",
       "      <td>4</td>\n",
       "      <td>8</td>\n",
       "      <td>1</td>\n",
       "      <td>65</td>\n",
       "      <td>30</td>\n",
       "      <td>no</td>\n",
       "      <td>docile</td>\n",
       "      <td>male</td>\n",
       "      <td>4</td>\n",
       "      <td>2</td>\n",
       "      <td>2</td>\n",
       "    </tr>\n",
       "    <tr>\n",
       "      <th>4</th>\n",
       "      <td>Anaya</td>\n",
       "      <td>654789123456</td>\n",
       "      <td>5</td>\n",
       "      <td>12</td>\n",
       "      <td>5</td>\n",
       "      <td>85</td>\n",
       "      <td>50</td>\n",
       "      <td>yes</td>\n",
       "      <td>normal</td>\n",
       "      <td>female</td>\n",
       "      <td>8</td>\n",
       "      <td>4</td>\n",
       "      <td>5</td>\n",
       "    </tr>\n",
       "  </tbody>\n",
       "</table>\n",
       "</div>"
      ],
      "text/plain": [
       "  owner_name  adhaar_number  goat_id  milk_in_litres  age  height  weight  \\\n",
       "0      Aarav   123456789012        1              10    2      70      35   \n",
       "1     Vihaan   987654321098        2              15    3      75      40   \n",
       "2     Vivaan   456123789012        3              20    4      80      45   \n",
       "3     Aadhya   321654987012        4               8    1      65      30   \n",
       "4      Anaya   654789123456        5              12    5      85      50   \n",
       "\n",
       "  pregnancy    behavior  gender  hay_grass_intake  meat_quality_of_the_goat  \\\n",
       "0        no      docile  female                 5                         4   \n",
       "1       yes      normal  female                 6                         3   \n",
       "2        no  aggressive    male                 7                         5   \n",
       "3        no      docile    male                 4                         2   \n",
       "4       yes      normal  female                 8                         4   \n",
       "\n",
       "   milk_quality_of_the_goat  \n",
       "0                         5  \n",
       "1                         4  \n",
       "2                         3  \n",
       "3                         2  \n",
       "4                         5  "
      ]
     },
     "execution_count": 33,
     "metadata": {},
     "output_type": "execute_result"
    }
   ],
   "source": [
    "df.head()"
   ]
  },
  {
   "cell_type": "code",
   "execution_count": 34,
   "id": "5fbac5f5-d2ad-49cd-b7fe-4b44334b566e",
   "metadata": {},
   "outputs": [
    {
     "data": {
      "text/html": [
       "<div>\n",
       "<style scoped>\n",
       "    .dataframe tbody tr th:only-of-type {\n",
       "        vertical-align: middle;\n",
       "    }\n",
       "\n",
       "    .dataframe tbody tr th {\n",
       "        vertical-align: top;\n",
       "    }\n",
       "\n",
       "    .dataframe thead th {\n",
       "        text-align: right;\n",
       "    }\n",
       "</style>\n",
       "<table border=\"1\" class=\"dataframe\">\n",
       "  <thead>\n",
       "    <tr style=\"text-align: right;\">\n",
       "      <th></th>\n",
       "      <th>adhaar_number</th>\n",
       "      <th>goat_id</th>\n",
       "      <th>milk_in_litres</th>\n",
       "      <th>age</th>\n",
       "      <th>height</th>\n",
       "      <th>weight</th>\n",
       "      <th>hay_grass_intake</th>\n",
       "      <th>meat_quality_of_the_goat</th>\n",
       "      <th>milk_quality_of_the_goat</th>\n",
       "    </tr>\n",
       "  </thead>\n",
       "  <tbody>\n",
       "    <tr>\n",
       "      <th>count</th>\n",
       "      <td>1.000000e+01</td>\n",
       "      <td>10.00000</td>\n",
       "      <td>10.000000</td>\n",
       "      <td>10.000000</td>\n",
       "      <td>10.000000</td>\n",
       "      <td>10.000000</td>\n",
       "      <td>10.00000</td>\n",
       "      <td>10.000000</td>\n",
       "      <td>10.000000</td>\n",
       "    </tr>\n",
       "    <tr>\n",
       "      <th>mean</th>\n",
       "      <td>6.063039e+11</td>\n",
       "      <td>5.50000</td>\n",
       "      <td>15.500000</td>\n",
       "      <td>3.000000</td>\n",
       "      <td>76.500000</td>\n",
       "      <td>40.400000</td>\n",
       "      <td>6.10000</td>\n",
       "      <td>3.700000</td>\n",
       "      <td>3.600000</td>\n",
       "    </tr>\n",
       "    <tr>\n",
       "      <th>std</th>\n",
       "      <td>3.211400e+11</td>\n",
       "      <td>3.02765</td>\n",
       "      <td>5.778312</td>\n",
       "      <td>1.490712</td>\n",
       "      <td>7.947746</td>\n",
       "      <td>7.791734</td>\n",
       "      <td>1.66333</td>\n",
       "      <td>1.159502</td>\n",
       "      <td>1.173788</td>\n",
       "    </tr>\n",
       "    <tr>\n",
       "      <th>min</th>\n",
       "      <td>1.234568e+11</td>\n",
       "      <td>1.00000</td>\n",
       "      <td>8.000000</td>\n",
       "      <td>1.000000</td>\n",
       "      <td>65.000000</td>\n",
       "      <td>30.000000</td>\n",
       "      <td>4.00000</td>\n",
       "      <td>2.000000</td>\n",
       "      <td>2.000000</td>\n",
       "    </tr>\n",
       "    <tr>\n",
       "      <th>25%</th>\n",
       "      <td>3.552722e+11</td>\n",
       "      <td>3.25000</td>\n",
       "      <td>10.500000</td>\n",
       "      <td>2.000000</td>\n",
       "      <td>70.500000</td>\n",
       "      <td>35.250000</td>\n",
       "      <td>5.00000</td>\n",
       "      <td>3.000000</td>\n",
       "      <td>3.000000</td>\n",
       "    </tr>\n",
       "    <tr>\n",
       "      <th>50%</th>\n",
       "      <td>7.043703e+11</td>\n",
       "      <td>5.50000</td>\n",
       "      <td>15.500000</td>\n",
       "      <td>3.000000</td>\n",
       "      <td>76.500000</td>\n",
       "      <td>39.000000</td>\n",
       "      <td>6.00000</td>\n",
       "      <td>4.000000</td>\n",
       "      <td>3.500000</td>\n",
       "    </tr>\n",
       "    <tr>\n",
       "      <th>75%</th>\n",
       "      <td>8.369205e+11</td>\n",
       "      <td>7.75000</td>\n",
       "      <td>19.500000</td>\n",
       "      <td>4.000000</td>\n",
       "      <td>81.500000</td>\n",
       "      <td>44.250000</td>\n",
       "      <td>7.00000</td>\n",
       "      <td>4.750000</td>\n",
       "      <td>4.750000</td>\n",
       "    </tr>\n",
       "    <tr>\n",
       "      <th>max</th>\n",
       "      <td>9.876543e+11</td>\n",
       "      <td>10.00000</td>\n",
       "      <td>25.000000</td>\n",
       "      <td>5.000000</td>\n",
       "      <td>90.000000</td>\n",
       "      <td>55.000000</td>\n",
       "      <td>9.00000</td>\n",
       "      <td>5.000000</td>\n",
       "      <td>5.000000</td>\n",
       "    </tr>\n",
       "  </tbody>\n",
       "</table>\n",
       "</div>"
      ],
      "text/plain": [
       "       adhaar_number   goat_id  milk_in_litres        age     height  \\\n",
       "count   1.000000e+01  10.00000       10.000000  10.000000  10.000000   \n",
       "mean    6.063039e+11   5.50000       15.500000   3.000000  76.500000   \n",
       "std     3.211400e+11   3.02765        5.778312   1.490712   7.947746   \n",
       "min     1.234568e+11   1.00000        8.000000   1.000000  65.000000   \n",
       "25%     3.552722e+11   3.25000       10.500000   2.000000  70.500000   \n",
       "50%     7.043703e+11   5.50000       15.500000   3.000000  76.500000   \n",
       "75%     8.369205e+11   7.75000       19.500000   4.000000  81.500000   \n",
       "max     9.876543e+11  10.00000       25.000000   5.000000  90.000000   \n",
       "\n",
       "          weight  hay_grass_intake  meat_quality_of_the_goat  \\\n",
       "count  10.000000          10.00000                 10.000000   \n",
       "mean   40.400000           6.10000                  3.700000   \n",
       "std     7.791734           1.66333                  1.159502   \n",
       "min    30.000000           4.00000                  2.000000   \n",
       "25%    35.250000           5.00000                  3.000000   \n",
       "50%    39.000000           6.00000                  4.000000   \n",
       "75%    44.250000           7.00000                  4.750000   \n",
       "max    55.000000           9.00000                  5.000000   \n",
       "\n",
       "       milk_quality_of_the_goat  \n",
       "count                 10.000000  \n",
       "mean                   3.600000  \n",
       "std                    1.173788  \n",
       "min                    2.000000  \n",
       "25%                    3.000000  \n",
       "50%                    3.500000  \n",
       "75%                    4.750000  \n",
       "max                    5.000000  "
      ]
     },
     "execution_count": 34,
     "metadata": {},
     "output_type": "execute_result"
    }
   ],
   "source": [
    "df.describe()"
   ]
  },
  {
   "cell_type": "code",
   "execution_count": null,
   "id": "f66997e0-30b9-4d04-87c4-9cf68349b7a4",
   "metadata": {},
   "outputs": [],
   "source": []
  },
  {
   "cell_type": "code",
   "execution_count": null,
   "id": "2dde3bf5-472e-4dd9-94ea-836a59ba5b9e",
   "metadata": {},
   "outputs": [],
   "source": []
  },
  {
   "cell_type": "code",
   "execution_count": null,
   "id": "f93a6261-1e55-4a5c-861f-8f0f325c4550",
   "metadata": {},
   "outputs": [],
   "source": []
  },
  {
   "cell_type": "markdown",
   "id": "382b0f5d-a373-43c7-9fa3-53783eabce11",
   "metadata": {},
   "source": [
    "## Feature Engineering"
   ]
  },
  {
   "cell_type": "code",
   "execution_count": 35,
   "id": "75944644-5e22-4297-a07c-b25a18002f01",
   "metadata": {},
   "outputs": [],
   "source": [
    "df.drop([\"owner_name\" , \"adhaar_number\" , \"goat_id\"] , axis = 1 , inplace = True)"
   ]
  },
  {
   "cell_type": "code",
   "execution_count": 36,
   "id": "a866c100-be4e-4337-a066-d9d6604a3cb1",
   "metadata": {},
   "outputs": [],
   "source": [
    "import pandas as pd\n",
    "from sklearn.preprocessing import OneHotEncoder, StandardScaler\n",
    "from sklearn.compose import ColumnTransformer\n",
    "from sklearn.impute import SimpleImputer\n",
    "from sklearn.pipeline import Pipeline"
   ]
  },
  {
   "cell_type": "code",
   "execution_count": 37,
   "id": "1893e86b-1546-44b5-bcfd-49753e586483",
   "metadata": {},
   "outputs": [
    {
     "data": {
      "text/plain": [
       "Index(['milk_in_litres', 'age', 'height', 'weight', 'pregnancy', 'behavior',\n",
       "       'gender', 'hay_grass_intake', 'meat_quality_of_the_goat',\n",
       "       'milk_quality_of_the_goat'],\n",
       "      dtype='object')"
      ]
     },
     "execution_count": 37,
     "metadata": {},
     "output_type": "execute_result"
    }
   ],
   "source": [
    "df.columns"
   ]
  },
  {
   "cell_type": "code",
   "execution_count": 38,
   "id": "d5d486e2-47e1-431e-a62d-8e30ae8a1e0a",
   "metadata": {},
   "outputs": [],
   "source": [
    "numerical_columns = [\"milk_in_litres\" , \"age\" , \"height\" , \"weight\" , \"hay_grass_intake\"]\n",
    "categorical_columns = [\"pregnancy\" , \"behavior\" , \"gender\"]"
   ]
  },
  {
   "cell_type": "code",
   "execution_count": 39,
   "id": "66db772c-64bb-4f96-83ee-bc50472f8859",
   "metadata": {},
   "outputs": [],
   "source": [
    "## StandardScaler for numerical columns\n",
    "## OneHotEncoding for categorical columns"
   ]
  },
  {
   "cell_type": "code",
   "execution_count": 40,
   "id": "c29d5e76-4b73-4e80-93bb-4e6f7df05b6a",
   "metadata": {},
   "outputs": [],
   "source": [
    "numerical_pipeline = Pipeline(\n",
    "    steps = [\n",
    "        (\"imputer\" , SimpleImputer(strategy = \"median\")),\n",
    "        (\"scaler\" , StandardScaler())\n",
    "    ]\n",
    ")\n",
    "\n",
    "categorical_pipeline = Pipeline(\n",
    "    steps=[\n",
    "        (\"imputer\" , SimpleImputer(strategy = \"most_frequent\")),\n",
    "        (\"one_hot_encoder\" , OneHotEncoder()),\n",
    "        (\"scaler\" , StandardScaler(with_mean = False))\n",
    "    ]\n",
    ")\n",
    "\n",
    "preprocessor = ColumnTransformer(\n",
    "                [\n",
    "                    (\"numerical_pipeline\",numerical_pipeline,numerical_columns),\n",
    "                    (\"categorical_pipeline\",categorical_pipeline,categorical_columns)\n",
    "                ]\n",
    ")"
   ]
  },
  {
   "cell_type": "markdown",
   "id": "af7ff9eb-0d79-484f-aae9-3fd8074b3877",
   "metadata": {},
   "source": [
    "## milk_quality_of_the_cow"
   ]
  },
  {
   "cell_type": "code",
   "execution_count": 41,
   "id": "4952f939-41ec-46c8-8396-19c088002692",
   "metadata": {},
   "outputs": [],
   "source": [
    "x = df.drop([\"meat_quality_of_the_goat\" , \"milk_quality_of_the_goat\"] , axis = 1 )\n",
    "y = df[[\"milk_quality_of_the_goat\"]]"
   ]
  },
  {
   "cell_type": "code",
   "execution_count": null,
   "id": "f1165e6f-93ad-4923-8f5c-d9862b6573d4",
   "metadata": {},
   "outputs": [],
   "source": []
  },
  {
   "cell_type": "code",
   "execution_count": 42,
   "id": "7900e7bb-a1ea-4319-97f0-f13d49dc64ad",
   "metadata": {},
   "outputs": [
    {
     "name": "stdout",
     "output_type": "stream",
     "text": [
      "Training set size: 8\n",
      "Test set size: 2\n"
     ]
    }
   ],
   "source": [
    "from sklearn.model_selection import train_test_split\n",
    "\n",
    "# Assuming X and y are your features and labels respectively\n",
    "x_train, x_test, y_train, y_test = train_test_split(x, y, test_size=0.2, random_state=42)\n",
    "\n",
    "print(f\"Training set size: {x_train.shape[0]}\")\n",
    "print(f\"Test set size: {x_test.shape[0]}\")\n"
   ]
  },
  {
   "cell_type": "code",
   "execution_count": 43,
   "id": "7b16b690-e73e-4bb9-b969-5ef1f36afe89",
   "metadata": {},
   "outputs": [],
   "source": [
    "x_train = preprocessor.fit_transform(x_train)\n",
    "x_test = preprocessor.transform(x_test)"
   ]
  },
  {
   "cell_type": "code",
   "execution_count": 44,
   "id": "c5bcf4e4-aae2-49a8-8aa0-d60139503a01",
   "metadata": {},
   "outputs": [
    {
     "data": {
      "text/plain": [
       "(8, 12)"
      ]
     },
     "execution_count": 44,
     "metadata": {},
     "output_type": "execute_result"
    }
   ],
   "source": [
    "x_train.shape"
   ]
  },
  {
   "cell_type": "code",
   "execution_count": 45,
   "id": "59422dd6-6ba1-4469-b292-d56aa5ac8b76",
   "metadata": {},
   "outputs": [
    {
     "data": {
      "text/plain": [
       "(2, 12)"
      ]
     },
     "execution_count": 45,
     "metadata": {},
     "output_type": "execute_result"
    }
   ],
   "source": [
    "x_test.shape"
   ]
  },
  {
   "cell_type": "markdown",
   "id": "84cb90b1-394a-4e3e-be42-917426e9b0bc",
   "metadata": {},
   "source": [
    "## Model Building"
   ]
  },
  {
   "cell_type": "markdown",
   "id": "ad0b1925-7cca-4a85-a850-1751a3b4e49a",
   "metadata": {},
   "source": [
    "### Giving every model a chance along with grid search cv implementation"
   ]
  },
  {
   "cell_type": "code",
   "execution_count": 49,
   "id": "22d12b8e-75fc-4b79-881d-1b8c82224996",
   "metadata": {},
   "outputs": [],
   "source": [
    "from sklearn.metrics import accuracy_score, precision_score, recall_score, f1_score\n",
    "\n",
    "def evaluate_model(true, predicted):\n",
    "    mae = mean_absolute_error(true, predicted)\n",
    "    mse = mean_squared_error(true, predicted)\n",
    "    rmse = np.sqrt(mean_squared_error(true, predicted))\n",
    "    r2_square = r2_score(true, predicted)\n",
    "    return mae, rmse, r2_square"
   ]
  },
  {
   "cell_type": "code",
   "execution_count": 50,
   "id": "94103c4d-272b-488f-9098-52339396cc39",
   "metadata": {},
   "outputs": [
    {
     "name": "stdout",
     "output_type": "stream",
     "text": [
      "Requirement already satisfied: xgboost in c:\\users\\maste\\anaconda3\\lib\\site-packages (2.0.3)\n",
      "Requirement already satisfied: numpy in c:\\users\\maste\\anaconda3\\lib\\site-packages (from xgboost) (1.26.4)\n",
      "Requirement already satisfied: scipy in c:\\users\\maste\\anaconda3\\lib\\site-packages (from xgboost) (1.11.4)\n"
     ]
    }
   ],
   "source": [
    "!pip install xgboost"
   ]
  },
  {
   "cell_type": "code",
   "execution_count": 55,
   "id": "f951c554-7c5c-46a8-b714-1ef4375c5a89",
   "metadata": {},
   "outputs": [],
   "source": [
    "X_train = x_train\n",
    "X_test = x_test"
   ]
  },
  {
   "cell_type": "code",
   "execution_count": 57,
   "id": "eea0fbea-3952-4c30-96f3-395f35706d45",
   "metadata": {},
   "outputs": [
    {
     "name": "stdout",
     "output_type": "stream",
     "text": [
      "[[4.]\n",
      " [5.]\n",
      " [2.]\n",
      " [3.]\n",
      " [3.]\n",
      " [5.]\n",
      " [2.]\n",
      " [3.]]\n",
      "Linear Regression\n",
      "Model performance for Training set\n",
      "- Root Mean Squared Error: 0.0000\n",
      "- Mean Absolute Error: 0.0000\n",
      "- R2 Score: 1.0000\n",
      "----------------------------------\n",
      "Model performance for Test set\n",
      "- Root Mean Squared Error: 2.3926\n",
      "- Mean Absolute Error: 2.3458\n",
      "- R2 Score: -21.8977\n",
      "===================================\n",
      "\n",
      "\n",
      "[3.375 3.375 3.375 3.375 3.375 3.375 3.375 3.375]\n",
      "Lasso\n",
      "Model performance for Training set\n",
      "- Root Mean Squared Error: 1.1110\n",
      "- Mean Absolute Error: 0.9688\n",
      "- R2 Score: 0.0000\n",
      "----------------------------------\n",
      "Model performance for Test set\n",
      "- Root Mean Squared Error: 1.2311\n",
      "- Mean Absolute Error: 1.1250\n",
      "- R2 Score: -5.0625\n",
      "===================================\n",
      "\n",
      "\n",
      "[[3.99684916]\n",
      " [4.71350824]\n",
      " [2.19066456]\n",
      " [2.97024234]\n",
      " [2.59362075]\n",
      " [4.88019812]\n",
      " [2.47174585]\n",
      " [3.18317098]]\n",
      "Ridge\n",
      "Model performance for Training set\n",
      "- Root Mean Squared Error: 0.2634\n",
      "- Mean Absolute Error: 0.2114\n",
      "- R2 Score: 0.9438\n",
      "----------------------------------\n",
      "Model performance for Test set\n",
      "- Root Mean Squared Error: 0.9426\n",
      "- Mean Absolute Error: 0.8438\n",
      "- R2 Score: -2.5539\n",
      "===================================\n",
      "\n",
      "\n",
      "[[3.4]\n",
      " [3. ]\n",
      " [3. ]\n",
      " [3.4]\n",
      " [3. ]\n",
      " [3.4]\n",
      " [3. ]\n",
      " [3.8]]\n",
      "K-Neighbors Regressor\n",
      "Model performance for Training set\n",
      "- Root Mean Squared Error: 1.1023\n",
      "- Mean Absolute Error: 0.9250\n",
      "- R2 Score: 0.0157\n",
      "----------------------------------\n",
      "Model performance for Test set\n",
      "- Root Mean Squared Error: 0.7616\n",
      "- Mean Absolute Error: 0.7000\n",
      "- R2 Score: -1.3200\n",
      "===================================\n",
      "\n",
      "\n",
      "[4. 5. 2. 3. 3. 5. 2. 3.]\n",
      "Decision Tree\n",
      "Model performance for Training set\n",
      "- Root Mean Squared Error: 0.0000\n",
      "- Mean Absolute Error: 0.0000\n",
      "- R2 Score: 1.0000\n",
      "----------------------------------\n",
      "Model performance for Test set\n",
      "- Root Mean Squared Error: 1.5811\n",
      "- Mean Absolute Error: 1.5000\n",
      "- R2 Score: -9.0000\n",
      "===================================\n",
      "\n",
      "\n"
     ]
    },
    {
     "name": "stderr",
     "output_type": "stream",
     "text": [
      "C:\\Users\\maste\\AppData\\Local\\Temp\\ipykernel_8372\\415202671.py:26: DataConversionWarning: A column-vector y was passed when a 1d array was expected. Please change the shape of y to (n_samples,), for example using ravel().\n",
      "  model.fit(X_train, y_train) # Train model\n"
     ]
    },
    {
     "name": "stdout",
     "output_type": "stream",
     "text": [
      "[3.71 4.29 2.71 3.07 2.99 4.57 2.49 3.54]\n",
      "Random Forest Regressor\n",
      "Model performance for Training set\n",
      "- Root Mean Squared Error: 0.4762\n",
      "- Mean Absolute Error: 0.4062\n",
      "- R2 Score: 0.8163\n",
      "----------------------------------\n",
      "Model performance for Test set\n",
      "- Root Mean Squared Error: 0.9804\n",
      "- Mean Absolute Error: 0.8150\n",
      "- R2 Score: -2.8450\n",
      "===================================\n",
      "\n",
      "\n",
      "[3.9992964 4.9998126 2.001473  2.9998913 2.9986675 4.9994235 2.0011454\n",
      " 3.0002928]\n",
      "XGBRegressor\n",
      "Model performance for Training set\n",
      "- Root Mean Squared Error: 0.0009\n",
      "- Mean Absolute Error: 0.0007\n",
      "- R2 Score: 1.0000\n",
      "----------------------------------\n",
      "Model performance for Test set\n",
      "- Root Mean Squared Error: 1.5240\n",
      "- Mean Absolute Error: 1.4228\n",
      "- R2 Score: -8.2907\n",
      "===================================\n",
      "\n",
      "\n",
      "[4. 5. 2. 3. 3. 5. 2. 3.]\n",
      "AdaBoost Regressor\n",
      "Model performance for Training set\n",
      "- Root Mean Squared Error: 0.0000\n",
      "- Mean Absolute Error: 0.0000\n",
      "- R2 Score: 1.0000\n",
      "----------------------------------\n",
      "Model performance for Test set\n",
      "- Root Mean Squared Error: 1.5811\n",
      "- Mean Absolute Error: 1.5000\n",
      "- R2 Score: -9.0000\n",
      "===================================\n",
      "\n",
      "\n"
     ]
    },
    {
     "name": "stderr",
     "output_type": "stream",
     "text": [
      "C:\\Users\\maste\\anaconda3\\Lib\\site-packages\\sklearn\\utils\\validation.py:1143: DataConversionWarning: A column-vector y was passed when a 1d array was expected. Please change the shape of y to (n_samples, ), for example using ravel().\n",
      "  y = column_or_1d(y, warn=True)\n"
     ]
    }
   ],
   "source": [
    "from sklearn.metrics import mean_squared_error, r2_score\n",
    "from sklearn.neighbors import KNeighborsRegressor\n",
    "from sklearn.tree import DecisionTreeRegressor\n",
    "from sklearn.ensemble import RandomForestRegressor,AdaBoostRegressor\n",
    "from sklearn.svm import SVR\n",
    "from sklearn.linear_model import LinearRegression, Ridge,Lasso\n",
    "from sklearn.metrics import r2_score, mean_absolute_error, mean_squared_error\n",
    "from sklearn.model_selection import RandomizedSearchCV\n",
    "from xgboost import XGBRegressor\n",
    "\n",
    "models = {\n",
    "    \"Linear Regression\": LinearRegression(),\n",
    "    \"Lasso\": Lasso(),\n",
    "    \"Ridge\": Ridge(),\n",
    "    \"K-Neighbors Regressor\": KNeighborsRegressor(),\n",
    "    \"Decision Tree\": DecisionTreeRegressor(),\n",
    "    \"Random Forest Regressor\": RandomForestRegressor(),\n",
    "    \"XGBRegressor\": XGBRegressor(), \n",
    "    \"AdaBoost Regressor\": AdaBoostRegressor()\n",
    "}\n",
    "model_list = []\n",
    "r2_list =[]\n",
    "\n",
    "for i in range(len(list(models))):\n",
    "    model = list(models.values())[i]\n",
    "    model.fit(X_train, y_train) # Train model\n",
    "\n",
    "    # Make predictions\n",
    "    y_train_pred = model.predict(X_train)\n",
    "    y_test_pred = model.predict(X_test)\n",
    "\n",
    "    print(y_train_pred)\n",
    "    \n",
    "    # Evaluate Train and Test dataset\n",
    "    model_train_mae , model_train_rmse, model_train_r2 = evaluate_model(y_train, y_train_pred)\n",
    "\n",
    "    model_test_mae , model_test_rmse, model_test_r2 = evaluate_model(y_test, y_test_pred)\n",
    "\n",
    "    \n",
    "    print(list(models.keys())[i])\n",
    "    model_list.append(list(models.keys())[i])\n",
    "    \n",
    "    print('Model performance for Training set')\n",
    "    print(\"- Root Mean Squared Error: {:.4f}\".format(model_train_rmse))\n",
    "    print(\"- Mean Absolute Error: {:.4f}\".format(model_train_mae))\n",
    "    print(\"- R2 Score: {:.4f}\".format(model_train_r2))\n",
    "\n",
    "    print('----------------------------------')\n",
    "    \n",
    "    print('Model performance for Test set')\n",
    "    print(\"- Root Mean Squared Error: {:.4f}\".format(model_test_rmse))\n",
    "    print(\"- Mean Absolute Error: {:.4f}\".format(model_test_mae))\n",
    "    print(\"- R2 Score: {:.4f}\".format(model_test_r2))\n",
    "    r2_list.append(model_test_r2)\n",
    "    \n",
    "    print('='*35)\n",
    "    print('\\n')"
   ]
  },
  {
   "cell_type": "code",
   "execution_count": 61,
   "id": "acd246dc-7c34-4aae-bf5d-e27bc76faf81",
   "metadata": {},
   "outputs": [
    {
     "data": {
      "text/html": [
       "<div>\n",
       "<style scoped>\n",
       "    .dataframe tbody tr th:only-of-type {\n",
       "        vertical-align: middle;\n",
       "    }\n",
       "\n",
       "    .dataframe tbody tr th {\n",
       "        vertical-align: top;\n",
       "    }\n",
       "\n",
       "    .dataframe thead th {\n",
       "        text-align: right;\n",
       "    }\n",
       "</style>\n",
       "<table border=\"1\" class=\"dataframe\">\n",
       "  <thead>\n",
       "    <tr style=\"text-align: right;\">\n",
       "      <th></th>\n",
       "      <th>Model Name</th>\n",
       "      <th>R2_Score</th>\n",
       "    </tr>\n",
       "  </thead>\n",
       "  <tbody>\n",
       "    <tr>\n",
       "      <th>3</th>\n",
       "      <td>K-Neighbors Regressor</td>\n",
       "      <td>-1.320000</td>\n",
       "    </tr>\n",
       "    <tr>\n",
       "      <th>2</th>\n",
       "      <td>Ridge</td>\n",
       "      <td>-2.553926</td>\n",
       "    </tr>\n",
       "    <tr>\n",
       "      <th>5</th>\n",
       "      <td>Random Forest Regressor</td>\n",
       "      <td>-2.845000</td>\n",
       "    </tr>\n",
       "    <tr>\n",
       "      <th>1</th>\n",
       "      <td>Lasso</td>\n",
       "      <td>-5.062500</td>\n",
       "    </tr>\n",
       "    <tr>\n",
       "      <th>6</th>\n",
       "      <td>XGBRegressor</td>\n",
       "      <td>-8.290694</td>\n",
       "    </tr>\n",
       "    <tr>\n",
       "      <th>4</th>\n",
       "      <td>Decision Tree</td>\n",
       "      <td>-9.000000</td>\n",
       "    </tr>\n",
       "    <tr>\n",
       "      <th>7</th>\n",
       "      <td>AdaBoost Regressor</td>\n",
       "      <td>-9.000000</td>\n",
       "    </tr>\n",
       "    <tr>\n",
       "      <th>0</th>\n",
       "      <td>Linear Regression</td>\n",
       "      <td>-21.897682</td>\n",
       "    </tr>\n",
       "  </tbody>\n",
       "</table>\n",
       "</div>"
      ],
      "text/plain": [
       "                Model Name   R2_Score\n",
       "3    K-Neighbors Regressor  -1.320000\n",
       "2                    Ridge  -2.553926\n",
       "5  Random Forest Regressor  -2.845000\n",
       "1                    Lasso  -5.062500\n",
       "6             XGBRegressor  -8.290694\n",
       "4            Decision Tree  -9.000000\n",
       "7       AdaBoost Regressor  -9.000000\n",
       "0        Linear Regression -21.897682"
      ]
     },
     "execution_count": 61,
     "metadata": {},
     "output_type": "execute_result"
    }
   ],
   "source": [
    "pd.DataFrame(list(zip(model_list, r2_list)), columns=['Model Name', 'R2_Score']).sort_values(by=[\"R2_Score\"],ascending=False)"
   ]
  },
  {
   "cell_type": "markdown",
   "id": "b5c7d978-7f9d-46d9-a2c1-de756e8017b6",
   "metadata": {},
   "source": [
    "## KNN Performs the Best"
   ]
  },
  {
   "cell_type": "code",
   "execution_count": 64,
   "id": "89aceaff-d5bc-416f-8d0d-6d0a18b60f3b",
   "metadata": {},
   "outputs": [
    {
     "name": "stdout",
     "output_type": "stream",
     "text": [
      "[[3.4]\n",
      " [3. ]\n",
      " [3. ]\n",
      " [3.4]\n",
      " [3. ]\n",
      " [3.4]\n",
      " [3. ]\n",
      " [3.8]]\n",
      "AdaBoost Regressor\n",
      "Model performance for Training set\n",
      "- Root Mean Squared Error: 1.1023\n",
      "- Mean Absolute Error: 0.9250\n",
      "- R2 Score: 0.0157\n"
     ]
    }
   ],
   "source": [
    "    model = KNeighborsRegressor(n_neighbors=5)\n",
    "    model.fit(X_train, y_train) # Train model\n",
    "\n",
    "    # Make predictions\n",
    "    y_train_pred = model.predict(X_train)\n",
    "    y_test_pred = model.predict(X_test)\n",
    "\n",
    "    print(y_train_pred)\n",
    "    \n",
    "    # Evaluate Train and Test dataset\n",
    "    model_train_mae , model_train_rmse, model_train_r2 = evaluate_model(y_train, y_train_pred)\n",
    "\n",
    "    model_test_mae , model_test_rmse, model_test_r2 = evaluate_model(y_test, y_test_pred)\n",
    "\n",
    "    \n",
    "    print(list(models.keys())[i])\n",
    "    model_list.append(list(models.keys())[i])\n",
    "    \n",
    "    print('Model performance for Training set')\n",
    "    print(\"- Root Mean Squared Error: {:.4f}\".format(model_train_rmse))\n",
    "    print(\"- Mean Absolute Error: {:.4f}\".format(model_train_mae))\n",
    "    print(\"- R2 Score: {:.4f}\".format(model_train_r2))"
   ]
  },
  {
   "cell_type": "code",
   "execution_count": 65,
   "id": "a175662f-8fbf-4d29-8c20-3a189960840d",
   "metadata": {},
   "outputs": [],
   "source": [
    "import pickle"
   ]
  },
  {
   "cell_type": "code",
   "execution_count": 67,
   "id": "cfba37f0-74f9-4ebb-aee1-755c66d3daa9",
   "metadata": {},
   "outputs": [],
   "source": [
    "with open('milk_quality_model.pkl', 'wb') as file:\n",
    "    pickle.dump(model, file)"
   ]
  },
  {
   "cell_type": "code",
   "execution_count": null,
   "id": "f6659333-77dd-4476-91a4-4cc47daff179",
   "metadata": {},
   "outputs": [],
   "source": []
  }
 ],
 "metadata": {
  "kernelspec": {
   "display_name": "Python 3 (ipykernel)",
   "language": "python",
   "name": "python3"
  },
  "language_info": {
   "codemirror_mode": {
    "name": "ipython",
    "version": 3
   },
   "file_extension": ".py",
   "mimetype": "text/x-python",
   "name": "python",
   "nbconvert_exporter": "python",
   "pygments_lexer": "ipython3",
   "version": "3.11.7"
  }
 },
 "nbformat": 4,
 "nbformat_minor": 5
}
