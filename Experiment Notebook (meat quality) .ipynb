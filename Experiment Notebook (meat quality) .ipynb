{
 "cells": [
  {
   "cell_type": "code",
   "execution_count": 1,
   "id": "0dfc2fa5-843a-4762-a7a4-a4e854358577",
   "metadata": {},
   "outputs": [],
   "source": [
    "import numpy as np\n",
    "import pandas as pd"
   ]
  },
  {
   "cell_type": "code",
   "execution_count": 2,
   "id": "a62b9e20-86c1-47f3-ad31-c29f8cbe0d12",
   "metadata": {},
   "outputs": [],
   "source": [
    "df = pd.read_csv(\"goat_dataset.csv\")"
   ]
  },
  {
   "cell_type": "markdown",
   "id": "7febb599-ddc3-443d-908c-1ecb585aba95",
   "metadata": {},
   "source": [
    "## Exploratory Data Analysis"
   ]
  },
  {
   "cell_type": "code",
   "execution_count": 3,
   "id": "72be2f24-5c08-4072-9ba1-c47ef63dc76d",
   "metadata": {},
   "outputs": [],
   "source": [
    "df.drop([\"owner_name\" , \"adhaar_number\" , \"goat_id\"] , axis = 1 , inplace = True)"
   ]
  },
  {
   "cell_type": "code",
   "execution_count": null,
   "id": "977936f6-c3d3-42aa-b317-5f7b3c20a19f",
   "metadata": {},
   "outputs": [],
   "source": []
  },
  {
   "cell_type": "code",
   "execution_count": 4,
   "id": "4f9f147a-adc5-4d8f-a38b-8a330645f506",
   "metadata": {},
   "outputs": [],
   "source": [
    "import pandas as pd\n",
    "from sklearn.preprocessing import OneHotEncoder, StandardScaler\n",
    "from sklearn.compose import ColumnTransformer\n",
    "from sklearn.impute import SimpleImputer\n",
    "from sklearn.pipeline import Pipeline"
   ]
  },
  {
   "cell_type": "code",
   "execution_count": 5,
   "id": "9313ed4f-d7ed-4c9a-94c4-62c993652e13",
   "metadata": {},
   "outputs": [],
   "source": [
    "numerical_columns = [\"milk_in_litres\" , \"age\" , \"height\" , \"weight\" , \"hay_grass_intake\"]\n",
    "categorical_columns = [\"pregnancy\" , \"behavior\" , \"gender\"]"
   ]
  },
  {
   "cell_type": "code",
   "execution_count": 6,
   "id": "c734ed85-1a50-4956-b01a-e757ec26aa04",
   "metadata": {},
   "outputs": [],
   "source": [
    "numerical_pipeline = Pipeline(\n",
    "    steps = [\n",
    "        (\"imputer\" , SimpleImputer(strategy = \"median\")),\n",
    "        (\"scaler\" , StandardScaler())\n",
    "    ]\n",
    ")\n",
    "\n",
    "categorical_pipeline = Pipeline(\n",
    "    steps=[\n",
    "        (\"imputer\" , SimpleImputer(strategy = \"most_frequent\")),\n",
    "        (\"one_hot_encoder\" , OneHotEncoder()),\n",
    "        (\"scaler\" , StandardScaler(with_mean = False))\n",
    "    ]\n",
    ")\n",
    "\n",
    "preprocessor = ColumnTransformer(\n",
    "                [\n",
    "                    (\"numerical_pipeline\",numerical_pipeline,numerical_columns),\n",
    "                    (\"categorical_pipeline\",categorical_pipeline,categorical_columns)\n",
    "                ]\n",
    ")"
   ]
  },
  {
   "cell_type": "markdown",
   "id": "fc79df0e-0ee3-4f9e-9ecc-28e106ad45ad",
   "metadata": {},
   "source": [
    "## meat_quality_of_the_milk"
   ]
  },
  {
   "cell_type": "code",
   "execution_count": 7,
   "id": "97601741-e0e5-46e3-b530-14822960d735",
   "metadata": {},
   "outputs": [],
   "source": [
    "x = df.drop([\"meat_quality_of_the_goat\" , \"milk_quality_of_the_goat\"] , axis = 1 )\n",
    "y = df[[\"meat_quality_of_the_goat\"]]"
   ]
  },
  {
   "cell_type": "code",
   "execution_count": 8,
   "id": "212d91fa-fc9f-4f34-9129-e45f7192fc53",
   "metadata": {},
   "outputs": [
    {
     "name": "stdout",
     "output_type": "stream",
     "text": [
      "Training set size: 8\n",
      "Test set size: 2\n"
     ]
    }
   ],
   "source": [
    "from sklearn.model_selection import train_test_split\n",
    "\n",
    "# Assuming X and y are your features and labels respectively\n",
    "x_train, x_test, y_train, y_test = train_test_split(x, y, test_size=0.2, random_state=42)\n",
    "\n",
    "print(f\"Training set size: {x_train.shape[0]}\")\n",
    "print(f\"Test set size: {x_test.shape[0]}\")\n"
   ]
  },
  {
   "cell_type": "code",
   "execution_count": 9,
   "id": "2dc37c77-ad0b-40b2-9b2b-8da9db0ca5cb",
   "metadata": {},
   "outputs": [],
   "source": [
    "x_train = preprocessor.fit_transform(x_train)\n",
    "x_test = preprocessor.transform(x_test)"
   ]
  },
  {
   "cell_type": "markdown",
   "id": "3e9f624c-b792-4e10-b825-602711cfd779",
   "metadata": {},
   "source": [
    "## Model Building"
   ]
  },
  {
   "cell_type": "markdown",
   "id": "92e07ac7-f72e-4032-97fb-d5c596e2dce3",
   "metadata": {},
   "source": [
    "### Giving every model a chance along with grid search cv implementation"
   ]
  },
  {
   "cell_type": "code",
   "execution_count": 10,
   "id": "f5c8679c-0fc3-457a-851b-9ce70793515d",
   "metadata": {},
   "outputs": [],
   "source": [
    "from sklearn.metrics import accuracy_score, precision_score, recall_score, f1_score\n",
    "\n",
    "def evaluate_model(true, predicted):\n",
    "    mae = mean_absolute_error(true, predicted)\n",
    "    mse = mean_squared_error(true, predicted)\n",
    "    rmse = np.sqrt(mean_squared_error(true, predicted))\n",
    "    r2_square = r2_score(true, predicted)\n",
    "    return mae, rmse, r2_square"
   ]
  },
  {
   "cell_type": "code",
   "execution_count": 11,
   "id": "b29aea38-264a-434a-9449-b5d248426dc8",
   "metadata": {},
   "outputs": [],
   "source": [
    "X_train = x_train\n",
    "X_test = x_test"
   ]
  },
  {
   "cell_type": "code",
   "execution_count": 12,
   "id": "f0d030cd-d88e-4913-a869-9370508d8e0e",
   "metadata": {},
   "outputs": [
    {
     "name": "stdout",
     "output_type": "stream",
     "text": [
      "[[5.]\n",
      " [4.]\n",
      " [4.]\n",
      " [5.]\n",
      " [2.]\n",
      " [4.]\n",
      " [2.]\n",
      " [3.]]\n",
      "Linear Regression\n",
      "Model performance for Training set\n",
      "- Root Mean Squared Error: 0.0000\n",
      "- Mean Absolute Error: 0.0000\n",
      "- R2 Score: 1.0000\n",
      "----------------------------------\n",
      "Model performance for Test set\n",
      "- Root Mean Squared Error: 0.5024\n",
      "- Mean Absolute Error: 0.4202\n",
      "- R2 Score: 0.7476\n",
      "===================================\n",
      "\n",
      "\n",
      "[3.625 3.625 3.625 3.625 3.625 3.625 3.625 3.625]\n",
      "Lasso\n",
      "Model performance for Training set\n",
      "- Root Mean Squared Error: 1.1110\n",
      "- Mean Absolute Error: 0.9688\n",
      "- R2 Score: 0.0000\n",
      "----------------------------------\n",
      "Model performance for Test set\n",
      "- Root Mean Squared Error: 1.0680\n",
      "- Mean Absolute Error: 1.0000\n",
      "- R2 Score: -0.1406\n",
      "===================================\n",
      "\n",
      "\n",
      "[[5.06111679]\n",
      " [3.71920894]\n",
      " [3.88464735]\n",
      " [4.84073131]\n",
      " [2.23584611]\n",
      " [4.07576491]\n",
      " [2.11322981]\n",
      " [3.06945478]]\n",
      "Ridge\n",
      "Model performance for Training set\n",
      "- Root Mean Squared Error: 0.1582\n",
      "- Mean Absolute Error: 0.1389\n",
      "- R2 Score: 0.9797\n",
      "----------------------------------\n",
      "Model performance for Test set\n",
      "- Root Mean Squared Error: 0.3954\n",
      "- Mean Absolute Error: 0.3497\n",
      "- R2 Score: 0.8436\n",
      "===================================\n",
      "\n",
      "\n",
      "[[4. ]\n",
      " [3. ]\n",
      " [3.4]\n",
      " [4. ]\n",
      " [3.4]\n",
      " [4.2]\n",
      " [3.4]\n",
      " [3.6]]\n",
      "K-Neighbors Regressor\n",
      "Model performance for Training set\n",
      "- Root Mean Squared Error: 0.9798\n",
      "- Mean Absolute Error: 0.9000\n",
      "- R2 Score: 0.2223\n",
      "----------------------------------\n",
      "Model performance for Test set\n",
      "- Root Mean Squared Error: 0.9055\n",
      "- Mean Absolute Error: 0.9000\n",
      "- R2 Score: 0.1800\n",
      "===================================\n",
      "\n",
      "\n",
      "[5. 4. 4. 5. 2. 4. 2. 3.]\n",
      "Decision Tree\n",
      "Model performance for Training set\n",
      "- Root Mean Squared Error: 0.0000\n",
      "- Mean Absolute Error: 0.0000\n",
      "- R2 Score: 1.0000\n",
      "----------------------------------\n",
      "Model performance for Test set\n",
      "- Root Mean Squared Error: 0.7071\n",
      "- Mean Absolute Error: 0.5000\n",
      "- R2 Score: 0.5000\n",
      "===================================\n",
      "\n",
      "\n",
      "[4.83 3.57 4.01 4.47 2.42 4.12 2.23 3.32]\n",
      "Random Forest Regressor\n",
      "Model performance for Training set\n",
      "- Root Mean Squared Error: 0.3242\n",
      "- Mean Absolute Error: 0.2787\n",
      "- R2 Score: 0.9148\n",
      "----------------------------------\n",
      "Model performance for Test set\n",
      "- Root Mean Squared Error: 0.7863\n",
      "- Mean Absolute Error: 0.7850\n",
      "- R2 Score: 0.3817\n",
      "===================================\n",
      "\n",
      "\n"
     ]
    },
    {
     "name": "stderr",
     "output_type": "stream",
     "text": [
      "C:\\Users\\maste\\AppData\\Local\\Temp\\ipykernel_3020\\415202671.py:26: DataConversionWarning: A column-vector y was passed when a 1d array was expected. Please change the shape of y to (n_samples,), for example using ravel().\n",
      "  model.fit(X_train, y_train) # Train model\n"
     ]
    },
    {
     "name": "stdout",
     "output_type": "stream",
     "text": [
      "[4.999411  3.9988391 4.000277  4.999411  2.000416  4.000034  2.000416\n",
      " 3.0011985]\n",
      "XGBRegressor\n",
      "Model performance for Training set\n",
      "- Root Mean Squared Error: 0.0007\n",
      "- Mean Absolute Error: 0.0006\n",
      "- R2 Score: 1.0000\n",
      "----------------------------------\n",
      "Model performance for Test set\n",
      "- Root Mean Squared Error: 0.5300\n",
      "- Mean Absolute Error: 0.5010\n",
      "- R2 Score: 0.7191\n",
      "===================================\n",
      "\n",
      "\n",
      "[5. 4. 4. 5. 2. 4. 2. 3.]\n",
      "AdaBoost Regressor\n",
      "Model performance for Training set\n",
      "- Root Mean Squared Error: 0.0000\n",
      "- Mean Absolute Error: 0.0000\n",
      "- R2 Score: 1.0000\n",
      "----------------------------------\n",
      "Model performance for Test set\n",
      "- Root Mean Squared Error: 0.7071\n",
      "- Mean Absolute Error: 0.5000\n",
      "- R2 Score: 0.5000\n",
      "===================================\n",
      "\n",
      "\n"
     ]
    },
    {
     "name": "stderr",
     "output_type": "stream",
     "text": [
      "C:\\Users\\maste\\anaconda3\\Lib\\site-packages\\sklearn\\utils\\validation.py:1143: DataConversionWarning: A column-vector y was passed when a 1d array was expected. Please change the shape of y to (n_samples, ), for example using ravel().\n",
      "  y = column_or_1d(y, warn=True)\n"
     ]
    }
   ],
   "source": [
    "from sklearn.metrics import mean_squared_error, r2_score\n",
    "from sklearn.neighbors import KNeighborsRegressor\n",
    "from sklearn.tree import DecisionTreeRegressor\n",
    "from sklearn.ensemble import RandomForestRegressor,AdaBoostRegressor\n",
    "from sklearn.svm import SVR\n",
    "from sklearn.linear_model import LinearRegression, Ridge,Lasso\n",
    "from sklearn.metrics import r2_score, mean_absolute_error, mean_squared_error\n",
    "from sklearn.model_selection import RandomizedSearchCV\n",
    "from xgboost import XGBRegressor\n",
    "\n",
    "models = {\n",
    "    \"Linear Regression\": LinearRegression(),\n",
    "    \"Lasso\": Lasso(),\n",
    "    \"Ridge\": Ridge(),\n",
    "    \"K-Neighbors Regressor\": KNeighborsRegressor(),\n",
    "    \"Decision Tree\": DecisionTreeRegressor(),\n",
    "    \"Random Forest Regressor\": RandomForestRegressor(),\n",
    "    \"XGBRegressor\": XGBRegressor(), \n",
    "    \"AdaBoost Regressor\": AdaBoostRegressor()\n",
    "}\n",
    "model_list = []\n",
    "r2_list =[]\n",
    "\n",
    "for i in range(len(list(models))):\n",
    "    model = list(models.values())[i]\n",
    "    model.fit(X_train, y_train) # Train model\n",
    "\n",
    "    # Make predictions\n",
    "    y_train_pred = model.predict(X_train)\n",
    "    y_test_pred = model.predict(X_test)\n",
    "\n",
    "    print(y_train_pred)\n",
    "    \n",
    "    # Evaluate Train and Test dataset\n",
    "    model_train_mae , model_train_rmse, model_train_r2 = evaluate_model(y_train, y_train_pred)\n",
    "\n",
    "    model_test_mae , model_test_rmse, model_test_r2 = evaluate_model(y_test, y_test_pred)\n",
    "\n",
    "    \n",
    "    print(list(models.keys())[i])\n",
    "    model_list.append(list(models.keys())[i])\n",
    "    \n",
    "    print('Model performance for Training set')\n",
    "    print(\"- Root Mean Squared Error: {:.4f}\".format(model_train_rmse))\n",
    "    print(\"- Mean Absolute Error: {:.4f}\".format(model_train_mae))\n",
    "    print(\"- R2 Score: {:.4f}\".format(model_train_r2))\n",
    "\n",
    "    print('----------------------------------')\n",
    "    \n",
    "    print('Model performance for Test set')\n",
    "    print(\"- Root Mean Squared Error: {:.4f}\".format(model_test_rmse))\n",
    "    print(\"- Mean Absolute Error: {:.4f}\".format(model_test_mae))\n",
    "    print(\"- R2 Score: {:.4f}\".format(model_test_r2))\n",
    "    r2_list.append(model_test_r2)\n",
    "    \n",
    "    print('='*35)\n",
    "    print('\\n')"
   ]
  },
  {
   "cell_type": "code",
   "execution_count": 13,
   "id": "f28c7714-06b9-4a7e-95b4-7bc40b5664ff",
   "metadata": {},
   "outputs": [
    {
     "data": {
      "text/html": [
       "<div>\n",
       "<style scoped>\n",
       "    .dataframe tbody tr th:only-of-type {\n",
       "        vertical-align: middle;\n",
       "    }\n",
       "\n",
       "    .dataframe tbody tr th {\n",
       "        vertical-align: top;\n",
       "    }\n",
       "\n",
       "    .dataframe thead th {\n",
       "        text-align: right;\n",
       "    }\n",
       "</style>\n",
       "<table border=\"1\" class=\"dataframe\">\n",
       "  <thead>\n",
       "    <tr style=\"text-align: right;\">\n",
       "      <th></th>\n",
       "      <th>Model Name</th>\n",
       "      <th>R2_Score</th>\n",
       "    </tr>\n",
       "  </thead>\n",
       "  <tbody>\n",
       "    <tr>\n",
       "      <th>2</th>\n",
       "      <td>Ridge</td>\n",
       "      <td>0.843636</td>\n",
       "    </tr>\n",
       "    <tr>\n",
       "      <th>0</th>\n",
       "      <td>Linear Regression</td>\n",
       "      <td>0.747552</td>\n",
       "    </tr>\n",
       "    <tr>\n",
       "      <th>6</th>\n",
       "      <td>XGBRegressor</td>\n",
       "      <td>0.719119</td>\n",
       "    </tr>\n",
       "    <tr>\n",
       "      <th>4</th>\n",
       "      <td>Decision Tree</td>\n",
       "      <td>0.500000</td>\n",
       "    </tr>\n",
       "    <tr>\n",
       "      <th>7</th>\n",
       "      <td>AdaBoost Regressor</td>\n",
       "      <td>0.500000</td>\n",
       "    </tr>\n",
       "    <tr>\n",
       "      <th>5</th>\n",
       "      <td>Random Forest Regressor</td>\n",
       "      <td>0.381750</td>\n",
       "    </tr>\n",
       "    <tr>\n",
       "      <th>3</th>\n",
       "      <td>K-Neighbors Regressor</td>\n",
       "      <td>0.180000</td>\n",
       "    </tr>\n",
       "    <tr>\n",
       "      <th>1</th>\n",
       "      <td>Lasso</td>\n",
       "      <td>-0.140625</td>\n",
       "    </tr>\n",
       "  </tbody>\n",
       "</table>\n",
       "</div>"
      ],
      "text/plain": [
       "                Model Name  R2_Score\n",
       "2                    Ridge  0.843636\n",
       "0        Linear Regression  0.747552\n",
       "6             XGBRegressor  0.719119\n",
       "4            Decision Tree  0.500000\n",
       "7       AdaBoost Regressor  0.500000\n",
       "5  Random Forest Regressor  0.381750\n",
       "3    K-Neighbors Regressor  0.180000\n",
       "1                    Lasso -0.140625"
      ]
     },
     "execution_count": 13,
     "metadata": {},
     "output_type": "execute_result"
    }
   ],
   "source": [
    "pd.DataFrame(list(zip(model_list, r2_list)), columns=['Model Name', 'R2_Score']).sort_values(by=[\"R2_Score\"],ascending=False)"
   ]
  },
  {
   "cell_type": "markdown",
   "id": "2675c088-d3dd-4b02-af16-db902a17ddf5",
   "metadata": {},
   "source": [
    "## KNN Performs the Best"
   ]
  },
  {
   "cell_type": "code",
   "execution_count": 14,
   "id": "cf798d41-af61-4861-9aaa-f3ec42edc87b",
   "metadata": {},
   "outputs": [
    {
     "name": "stdout",
     "output_type": "stream",
     "text": [
      "[[4. ]\n",
      " [3. ]\n",
      " [3.4]\n",
      " [4. ]\n",
      " [3.4]\n",
      " [4.2]\n",
      " [3.4]\n",
      " [3.6]]\n",
      "AdaBoost Regressor\n",
      "Model performance for Training set\n",
      "- Root Mean Squared Error: 0.9798\n",
      "- Mean Absolute Error: 0.9000\n",
      "- R2 Score: 0.2223\n"
     ]
    }
   ],
   "source": [
    "    model = KNeighborsRegressor(n_neighbors=5)\n",
    "    model.fit(X_train, y_train) # Train model\n",
    "\n",
    "    # Make predictions\n",
    "    y_train_pred = model.predict(X_train)\n",
    "    y_test_pred = model.predict(X_test)\n",
    "\n",
    "    print(y_train_pred)\n",
    "    \n",
    "    # Evaluate Train and Test dataset\n",
    "    model_train_mae , model_train_rmse, model_train_r2 = evaluate_model(y_train, y_train_pred)\n",
    "\n",
    "    model_test_mae , model_test_rmse, model_test_r2 = evaluate_model(y_test, y_test_pred)\n",
    "\n",
    "    \n",
    "    print(list(models.keys())[i])\n",
    "    model_list.append(list(models.keys())[i])\n",
    "    \n",
    "    print('Model performance for Training set')\n",
    "    print(\"- Root Mean Squared Error: {:.4f}\".format(model_train_rmse))\n",
    "    print(\"- Mean Absolute Error: {:.4f}\".format(model_train_mae))\n",
    "    print(\"- R2 Score: {:.4f}\".format(model_train_r2))"
   ]
  },
  {
   "cell_type": "code",
   "execution_count": 15,
   "id": "c11273de-08ad-485a-831f-baa6f1cb32a6",
   "metadata": {},
   "outputs": [],
   "source": [
    "import pickle"
   ]
  },
  {
   "cell_type": "code",
   "execution_count": 16,
   "id": "04ef4b18-3d08-40cc-95e7-edef839391bf",
   "metadata": {},
   "outputs": [],
   "source": [
    "with open('meat_quality_model.pkl', 'wb') as file:\n",
    "    pickle.dump(model, file)"
   ]
  },
  {
   "cell_type": "code",
   "execution_count": null,
   "id": "7a739037-9a4b-4694-bef6-08f80279fa76",
   "metadata": {},
   "outputs": [],
   "source": []
  },
  {
   "cell_type": "code",
   "execution_count": null,
   "id": "5db231c1-b37e-437e-846e-63aee9da42c0",
   "metadata": {},
   "outputs": [],
   "source": []
  },
  {
   "cell_type": "code",
   "execution_count": null,
   "id": "0c66ab58-2126-4bc0-9813-14da5653d4a6",
   "metadata": {},
   "outputs": [],
   "source": []
  }
 ],
 "metadata": {
  "kernelspec": {
   "display_name": "Python 3 (ipykernel)",
   "language": "python",
   "name": "python3"
  },
  "language_info": {
   "codemirror_mode": {
    "name": "ipython",
    "version": 3
   },
   "file_extension": ".py",
   "mimetype": "text/x-python",
   "name": "python",
   "nbconvert_exporter": "python",
   "pygments_lexer": "ipython3",
   "version": "3.11.7"
  }
 },
 "nbformat": 4,
 "nbformat_minor": 5
}
